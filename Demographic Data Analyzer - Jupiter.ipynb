{
 "cells": [
  {
   "cell_type": "code",
   "execution_count": 1,
   "metadata": {},
   "outputs": [],
   "source": [
    "import pandas as pd\n"
   ]
  },
  {
   "cell_type": "code",
   "execution_count": 2,
   "metadata": {},
   "outputs": [],
   "source": [
    " # Read data from file\n",
    "df = pd.read_csv(\"adult.data.csv\")"
   ]
  },
  {
   "cell_type": "code",
   "execution_count": 35,
   "metadata": {},
   "outputs": [
    {
     "name": "stdout",
     "output_type": "stream",
     "text": [
      "       age         workclass  fnlwgt   education  education-num  \\\n",
      "0       39         State-gov   77516   Bachelors             13   \n",
      "1       50  Self-emp-not-inc   83311   Bachelors             13   \n",
      "2       38           Private  215646     HS-grad              9   \n",
      "3       53           Private  234721        11th              7   \n",
      "4       28           Private  338409   Bachelors             13   \n",
      "...    ...               ...     ...         ...            ...   \n",
      "32556   27           Private  257302  Assoc-acdm             12   \n",
      "32557   40           Private  154374     HS-grad              9   \n",
      "32558   58           Private  151910     HS-grad              9   \n",
      "32559   22           Private  201490     HS-grad              9   \n",
      "32560   52      Self-emp-inc  287927     HS-grad              9   \n",
      "\n",
      "           marital-status         occupation   relationship   race     sex  \\\n",
      "0           Never-married       Adm-clerical  Not-in-family  White    Male   \n",
      "1      Married-civ-spouse    Exec-managerial        Husband  White    Male   \n",
      "2                Divorced  Handlers-cleaners  Not-in-family  White    Male   \n",
      "3      Married-civ-spouse  Handlers-cleaners        Husband  Black    Male   \n",
      "4      Married-civ-spouse     Prof-specialty           Wife  Black  Female   \n",
      "...                   ...                ...            ...    ...     ...   \n",
      "32556  Married-civ-spouse       Tech-support           Wife  White  Female   \n",
      "32557  Married-civ-spouse  Machine-op-inspct        Husband  White    Male   \n",
      "32558             Widowed       Adm-clerical      Unmarried  White  Female   \n",
      "32559       Never-married       Adm-clerical      Own-child  White    Male   \n",
      "32560  Married-civ-spouse    Exec-managerial           Wife  White  Female   \n",
      "\n",
      "       capital-gain  capital-loss  hours-per-week native-country salary  \n",
      "0              2174             0              40  United-States  <=50K  \n",
      "1                 0             0              13  United-States  <=50K  \n",
      "2                 0             0              40  United-States  <=50K  \n",
      "3                 0             0              40  United-States  <=50K  \n",
      "4                 0             0              40           Cuba  <=50K  \n",
      "...             ...           ...             ...            ...    ...  \n",
      "32556             0             0              38  United-States  <=50K  \n",
      "32557             0             0              40  United-States   >50K  \n",
      "32558             0             0              40  United-States  <=50K  \n",
      "32559             0             0              20  United-States  <=50K  \n",
      "32560         15024             0              40  United-States   >50K  \n",
      "\n",
      "[32561 rows x 15 columns]\n"
     ]
    }
   ],
   "source": [
    "print(df)"
   ]
  },
  {
   "cell_type": "code",
   "execution_count": 4,
   "metadata": {},
   "outputs": [
    {
     "name": "stdout",
     "output_type": "stream",
     "text": [
      "White                 27816\n",
      "Black                  3124\n",
      "Asian-Pac-Islander     1039\n",
      "Amer-Indian-Eskimo      311\n",
      "Other                   271\n",
      "Name: race, dtype: int64\n"
     ]
    }
   ],
   "source": [
    "# How many of each race are represented in this dataset? This should be a Pandas series with race names as the index labels.\n",
    "race_count = df[\"race\"].value_counts()\n",
    "print(race_count)"
   ]
  },
  {
   "cell_type": "code",
   "execution_count": 5,
   "metadata": {},
   "outputs": [
    {
     "name": "stdout",
     "output_type": "stream",
     "text": [
      "39.43\n"
     ]
    }
   ],
   "source": [
    "# What is the average age of men?\n",
    "average_age_men = df[df[\"sex\"] == \"Male\"][\"age\"].mean()\n",
    "print(round(average_age_men,2))\n"
   ]
  },
  {
   "cell_type": "code",
   "execution_count": 6,
   "metadata": {},
   "outputs": [
    {
     "name": "stdout",
     "output_type": "stream",
     "text": [
      "16.45\n"
     ]
    }
   ],
   "source": [
    "# What is the percentage of people who have a Bachelor's degree?\n",
    "percentage_bachelors =(len(df[df['education'] == 'Bachelors']) / len(df)) * 100\n",
    "print(round(percentage_bachelors,2))"
   ]
  },
  {
   "cell_type": "code",
   "execution_count": 7,
   "metadata": {},
   "outputs": [
    {
     "name": "stdout",
     "output_type": "stream",
     "text": [
      "10.71\n"
     ]
    }
   ],
   "source": [
    " # What percentage of people with advanced education (`Bachelors`, `Masters`, or `Doctorate`) make more than 50K?\n",
    "percentage_BC_MC_DOC = len(df[(df['education'].isin(['Bachelors', 'Masters', 'Doctorate'])) & (df['salary'] == \">50K\")]) / len(df) * 100\n",
    "print(round(percentage_BC_MC_DOC,2))"
   ]
  },
  {
   "cell_type": "code",
   "execution_count": 8,
   "metadata": {},
   "outputs": [
    {
     "name": "stdout",
     "output_type": "stream",
     "text": [
      "13.37\n"
     ]
    }
   ],
   "source": [
    "\n",
    "#What percentage of people without advanced education make more than 50K?\n",
    "percentage_No_ADV_Education = len(df[(~df['education'].isin(['Bachelors', 'Masters', 'Doctorate'])) & (df['salary'] == \">50K\")]) / len(df) * 100\n",
    "print(round(percentage_No_ADV_Education,2))\n"
   ]
  },
  {
   "cell_type": "code",
   "execution_count": 9,
   "metadata": {},
   "outputs": [
    {
     "name": "stdout",
     "output_type": "stream",
     "text": [
      "1\n"
     ]
    }
   ],
   "source": [
    "#What is the minimum number of hours a person works per week?\n",
    "Min_work_Hours = df['hours-per-week'].min()\n",
    "print(Min_work_Hours)"
   ]
  },
  {
   "cell_type": "code",
   "execution_count": 10,
   "metadata": {},
   "outputs": [
    {
     "name": "stdout",
     "output_type": "stream",
     "text": [
      "24.08\n"
     ]
    }
   ],
   "source": [
    "#What percentage of the people who work the minimum number of hours per week have a salary of more than 50K?\n",
    "Min_work_Hours = len(df[(df['hours-per-week'].min()) & (df['salary'] == \">50K\")]) / len(df) * 100\n",
    "print(round(Min_work_Hours_50k,2))"
   ]
  },
  {
   "cell_type": "code",
   "execution_count": 33,
   "metadata": {},
   "outputs": [
    {
     "name": "stdout",
     "output_type": "stream",
     "text": [
      "native-country\n",
      "Dominican-Republic             2.86\n",
      "Columbia                       3.39\n",
      "Guatemala                      4.69\n",
      "Mexico                         5.13\n",
      "Nicaragua                      5.88\n",
      "Peru                           6.45\n",
      "Vietnam                        7.46\n",
      "Honduras                       7.69\n",
      "El-Salvador                    8.49\n",
      "Haiti                          9.09\n",
      "Puerto-Rico                   10.53\n",
      "Trinadad&Tobago               10.53\n",
      "Portugal                      10.81\n",
      "Laos                          11.11\n",
      "Jamaica                       12.35\n",
      "Ecuador                       14.29\n",
      "Thailand                      16.67\n",
      "Poland                        20.00\n",
      "South                         20.00\n",
      "Ireland                       20.83\n",
      "Hungary                       23.08\n",
      "United-States                 24.58\n",
      "Scotland                      25.00\n",
      "?                             25.04\n",
      "Cuba                          26.32\n",
      "China                         26.67\n",
      "Greece                        27.59\n",
      "Hong                          30.00\n",
      "Philippines                   30.81\n",
      "Germany                       32.12\n",
      "Canada                        32.23\n",
      "England                       33.33\n",
      "Italy                         34.25\n",
      "Cambodia                      36.84\n",
      "Yugoslavia                    37.50\n",
      "Japan                         38.71\n",
      "Taiwan                        39.22\n",
      "India                         40.00\n",
      "France                        41.38\n",
      "Iran                          41.86\n",
      "Holand-Netherlands              NaN\n",
      "Outlying-US(Guam-USVI-etc)      NaN\n",
      "dtype: float64\n"
     ]
    }
   ],
   "source": [
    "#What country has the highest percentage of people that earn >50K and what is that percentage?\n",
    "Country_50K = df[df['salary'] == \">50K\"].groupby('native-country').size() / df.groupby('native-country').size() * 100\n",
    "print(round(Country_50K,2).sort_values())"
   ]
  },
  {
   "cell_type": "code",
   "execution_count": 46,
   "metadata": {},
   "outputs": [
    {
     "name": "stdout",
     "output_type": "stream",
     "text": [
      "Prof-specialty      25\n",
      "Exec-managerial      8\n",
      "Other-service        2\n",
      "Tech-support         2\n",
      "Transport-moving     1\n",
      "Sales                1\n",
      "Adm-clerical         1\n",
      "Name: occupation, dtype: int64\n"
     ]
    }
   ],
   "source": [
    "#Identify the most popular occupation for those who earn >50K in India.\n",
    "india_50k = df[(df['native-country'] == 'India') & (df['salary'] == \">50K\")]\n",
    "Occupation_india = india_50k['occupation'].value_counts()\n",
    "print(Occupation_india)"
   ]
  }
 ],
 "metadata": {
  "kernelspec": {
   "display_name": "Python 3",
   "language": "python",
   "name": "python3"
  },
  "language_info": {
   "codemirror_mode": {
    "name": "ipython",
    "version": 3
   },
   "file_extension": ".py",
   "mimetype": "text/x-python",
   "name": "python",
   "nbconvert_exporter": "python",
   "pygments_lexer": "ipython3",
   "version": "3.10.2"
  }
 },
 "nbformat": 4,
 "nbformat_minor": 2
}
